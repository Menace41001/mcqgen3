{
 "cells": [
  {
   "cell_type": "code",
   "execution_count": null,
   "metadata": {},
   "outputs": [],
   "source": []
  },
  {
   "cell_type": "code",
   "execution_count": 2,
   "metadata": {},
   "outputs": [],
   "source": [
    "import os\n",
    "import pandas as pd\n",
    "import json"
   ]
  },
  {
   "cell_type": "code",
   "execution_count": 3,
   "metadata": {},
   "outputs": [],
   "source": [
    "from langchain.prompts import PromptTemplate\n",
    "from langchain.chains import LLMChain"
   ]
  },
  {
   "cell_type": "code",
   "execution_count": 4,
   "metadata": {},
   "outputs": [],
   "source": [
    "from langchain.chains import SequentialChain\n",
    "import PyPDF2\n"
   ]
  },
  {
   "cell_type": "code",
   "execution_count": 5,
   "metadata": {},
   "outputs": [],
   "source": [
    "RESPONSE_JSON={\n",
    "  \"1\": {\n",
    "    \"question_text\": \"What is the capital of France?\",\n",
    "    \"options\": {\n",
    "      \"1\": \"Paris\",\n",
    "      \"2\": \"London\",\n",
    "      \"3\": \"Berlin\",\n",
    "      \"4\": \"Madrid\"\n",
    "    },\n",
    "    \"correct_option\": \"Paris\"\n",
    "  },\n",
    "  \"2\": {\n",
    "    \"question_text\": \"Which planet is known as the Red Planet?\",\n",
    "    \"options\": {\n",
    "      \"1\": \"Earth\",\n",
    "      \"2\": \"Mars\",\n",
    "      \"3\": \"Venus\",\n",
    "      \"4\": \"Jupiter\"\n",
    "    },\n",
    "    \"correct_option\": \"Mars\"\n",
    "  },\n",
    "  \"3\": {\n",
    "    \"question_text\": \"Who wrote 'Romeo and Juliet'?\",\n",
    "    \"options\": {\n",
    "      \"1\": \"William Shakespeare\",\n",
    "      \"2\": \"Charles Dickens\",\n",
    "      \"3\": \"Mark Twain\",\n",
    "      \"4\": \"Ernest Hemingway\"\n",
    "    },\n",
    "    \"correct_option\": \"William Shakespeare\"\n",
    "  }\n",
    "}"
   ]
  },
  {
   "cell_type": "code",
   "execution_count": 6,
   "metadata": {},
   "outputs": [],
   "source": [
    "TEMPLATE = \"\"\"\n",
    "text:{text}\n",
    " you are an expert mcq maker , Given the above text, it is your job to \n",
    " create a quiz of {number} of multiple choice question on {topic} in {tone} tone\n",
    " make sure that no question is repeated and relevant to the {topic} given \n",
    " you can use the respone like RESPONSE_JSON below to use it as a guide \n",
    " Ensure to make {number} of questions \n",
    " {response_json}\n",
    "\"\"\""
   ]
  },
  {
   "cell_type": "code",
   "execution_count": 7,
   "metadata": {},
   "outputs": [],
   "source": [
    "quiz_generation_prompt = PromptTemplate(\n",
    "    input_variables=[\"text\",\"number\",\"topic\",\"tone\",\"response_json\"],\n",
    "    template=TEMPLATE\n",
    ")"
   ]
  },
  {
   "cell_type": "code",
   "execution_count": 8,
   "metadata": {},
   "outputs": [],
   "source": [
    "TEMPLATE2 = \"\"\"\n",
    "    you are an expert in english grammer and writer. Given a multiple choice quiz for {topic} students.\\\n",
    "    you need to evaluate the complexity of the quiz and provide analysis of the questions.\\\n",
    "    if the questions are not as per the cognitive and analytical abilities of student , update the quiz question \n",
    "    that need to be changed and update the tone as needed \n",
    "    quizmcq:\n",
    "    {topic}\n",
    "    check these  \n",
    "\"\"\""
   ]
  },
  {
   "cell_type": "code",
   "execution_count": 9,
   "metadata": {},
   "outputs": [],
   "source": [
    "quiz_evaluation_prompt = PromptTemplate(\n",
    "    input_variables=[\"topic\",\"quiz\"],\n",
    "    template=TEMPLATE2\n",
    ")"
   ]
  },
  {
   "cell_type": "code",
   "execution_count": 10,
   "metadata": {},
   "outputs": [],
   "source": [
    "from langchain.llms import Ollama\n",
    "llm = Ollama(base_url=\"http://localhost:11434\",\n",
    "model = \"llama3.1:8b\")\n"
   ]
  },
  {
   "cell_type": "code",
   "execution_count": 11,
   "metadata": {},
   "outputs": [
    {
     "name": "stderr",
     "output_type": "stream",
     "text": [
      "C:\\Users\\asus\\AppData\\Local\\Temp\\ipykernel_6744\\4090386649.py:1: LangChainDeprecationWarning: The class `LLMChain` was deprecated in LangChain 0.1.17 and will be removed in 1.0. Use RunnableSequence, e.g., `prompt | llm` instead.\n",
      "  quiz_chain = LLMChain(llm=llm,prompt=quiz_generation_prompt,output_key=\"quiz\",verbose=True)\n"
     ]
    }
   ],
   "source": [
    "quiz_chain = LLMChain(llm=llm,prompt=quiz_generation_prompt,output_key=\"quiz\",verbose=True)"
   ]
  },
  {
   "cell_type": "code",
   "execution_count": 12,
   "metadata": {},
   "outputs": [],
   "source": [
    "review_Chain = LLMChain(llm=llm,prompt=quiz_evaluation_prompt,output_key=\"review\", verbose=True)"
   ]
  },
  {
   "cell_type": "code",
   "execution_count": 13,
   "metadata": {},
   "outputs": [],
   "source": [
    "generate_evaluation_chain = SequentialChain(chains=[quiz_chain,review_Chain],input_variables=[\"text\",\"number\",\"topic\",\"tone\",\"response_json\"],\n",
    "                                            output_variables=[\"quiz\",\"review\"],verbose=True)"
   ]
  },
  {
   "cell_type": "code",
   "execution_count": 14,
   "metadata": {},
   "outputs": [],
   "source": [
    "filepath = r\"C:\\Users\\asus\\mcqgen3\\data.txt\""
   ]
  },
  {
   "cell_type": "code",
   "execution_count": 15,
   "metadata": {},
   "outputs": [],
   "source": [
    "with open(filepath,'r') as file:\n",
    "    TEXT=file.read() "
   ]
  },
  {
   "cell_type": "code",
   "execution_count": 16,
   "metadata": {},
   "outputs": [],
   "source": [
    "res= json.dumps(RESPONSE_JSON)\n",
    "Number = 3\n",
    "SUBJECT=\"Artificial Intelligence\"\n",
    "TONE=\"simple\""
   ]
  },
  {
   "cell_type": "code",
   "execution_count": 17,
   "metadata": {},
   "outputs": [
    {
     "name": "stderr",
     "output_type": "stream",
     "text": [
      "C:\\Users\\asus\\AppData\\Local\\Temp\\ipykernel_6744\\3432034826.py:1: LangChainDeprecationWarning: The method `Chain.__call__` was deprecated in langchain 0.1.0 and will be removed in 1.0. Use invoke instead.\n",
      "  response = generate_evaluation_chain(\n"
     ]
    },
    {
     "name": "stdout",
     "output_type": "stream",
     "text": [
      "\n",
      "\n",
      "\u001b[1m> Entering new SequentialChain chain...\u001b[0m\n",
      "\n",
      "\n",
      "\u001b[1m> Entering new LLMChain chain...\u001b[0m\n",
      "Prompt after formatting:\n",
      "\u001b[32;1m\u001b[1;3m\n",
      "text:As a scientific endeavor, machine learning grew out of the quest for artificial intelligence (AI). In the early days of AI as an academic discipline, some researchers were interested in having machines learn from data. They attempted to approach the problem with various symbolic methods, as well as what were then termed \"neural networks\"; these were mostly perceptrons and other models that were later found to be reinventions of the generalized linear models of statistics.[22] Probabilistic reasoning was also employed, especially in automated medical diagnosis.[23]: 488 \n",
      "\n",
      "However, an increasing emphasis on the logical, knowledge-based approach caused a rift between AI and machine learning. Probabilistic systems were plagued by theoretical and practical problems of data acquisition and representation.[23]: 488  By 1980, expert systems had come to dominate AI, and statistics was out of favor.[24] Work on symbolic/knowledge-based learning did continue within AI, leading to inductive logic programming(ILP), but the more statistical line of research was now outside the field of AI proper, in pattern recognition and information retrieval.[23]: 708–710, 755  Neural networks research had been abandoned by AI and computer science around the same time. This line, too, was continued outside the AI/CS field, as \"connectionism\", by researchers from other disciplines including John Hopfield, David Rumelhart, and Geoffrey Hinton. Their main success came in the mid-1980s with the reinvention of backpropagation.[23]: 25 \n",
      "\n",
      "Machine learning (ML), reorganized and recognized as its own field, started to flourish in the 1990s. The field changed its goal from achieving artificial intelligence to tackling solvable problems of a practical nature. It shifted focus away from the symbolic approaches it had inherited from AI, and toward methods and models borrowed from statistics, fuzzy logic, and probability theory.[24]\n",
      " you are an expert mcq maker , Given the above text, it is your job to \n",
      " create a quiz of 3 of multiple choice question on Artificial Intelligence in simple tone\n",
      " make sure that no question is repeated and relevant to the Artificial Intelligence given \n",
      " you can use the respone like RESPONSE_JSON below to use it as a guide \n",
      " Ensure to make 3 of questions \n",
      " {\"1\": {\"question_text\": \"What is the capital of France?\", \"options\": {\"1\": \"Paris\", \"2\": \"London\", \"3\": \"Berlin\", \"4\": \"Madrid\"}, \"correct_option\": \"Paris\"}, \"2\": {\"question_text\": \"Which planet is known as the Red Planet?\", \"options\": {\"1\": \"Earth\", \"2\": \"Mars\", \"3\": \"Venus\", \"4\": \"Jupiter\"}, \"correct_option\": \"Mars\"}, \"3\": {\"question_text\": \"Who wrote 'Romeo and Juliet'?\", \"options\": {\"1\": \"William Shakespeare\", \"2\": \"Charles Dickens\", \"3\": \"Mark Twain\", \"4\": \"Ernest Hemingway\"}, \"correct_option\": \"William Shakespeare\"}}\n",
      "\u001b[0m\n",
      "\n",
      "\u001b[1m> Finished chain.\u001b[0m\n",
      "\n",
      "\n",
      "\u001b[1m> Entering new LLMChain chain...\u001b[0m\n",
      "Prompt after formatting:\n",
      "\u001b[32;1m\u001b[1;3m\n",
      "    you are an expert in english grammer and writer. Given a multiple choice quiz for Artificial Intelligence students.    you need to evaluate the complexity of the quiz and provide analysis of the questions.    if the questions are not as per the cognitive and analytical abilities of student , update the quiz question \n",
      "    that need to be changed and update the tone as needed \n",
      "    quizmcq:\n",
      "    Artificial Intelligence\n",
      "    check these  \n",
      "\u001b[0m\n",
      "\n",
      "\u001b[1m> Finished chain.\u001b[0m\n",
      "\n",
      "\u001b[1m> Finished chain.\u001b[0m\n"
     ]
    }
   ],
   "source": [
    "response = generate_evaluation_chain(\n",
    "    {\n",
    "\n",
    "    \"text\":TEXT,\n",
    "    \"number\":Number,\n",
    "    \"topic\":SUBJECT,\n",
    "    \"tone\":TONE,\n",
    "    \"response_json\": res\n",
    "    }\n",
    "    \n",
    ")"
   ]
  },
  {
   "cell_type": "code",
   "execution_count": 49,
   "metadata": {},
   "outputs": [
    {
     "data": {
      "text/plain": [
       "{'text': 'As a scientific endeavor, machine learning grew out of the quest for artificial intelligence (AI). In the early days of AI as an academic discipline, some researchers were interested in having machines learn from data. They attempted to approach the problem with various symbolic methods, as well as what were then termed \"neural networks\"; these were mostly perceptrons and other models that were later found to be reinventions of the generalized linear models of statistics.[22] Probabilistic reasoning was also employed, especially in automated medical diagnosis.[23]:\\u200a488\\u200a\\n\\nHowever, an increasing emphasis on the logical, knowledge-based approach caused a rift between AI and machine learning. Probabilistic systems were plagued by theoretical and practical problems of data acquisition and representation.[23]:\\u200a488\\u200a By 1980, expert systems had come to dominate AI, and statistics was out of favor.[24] Work on symbolic/knowledge-based learning did continue within AI, leading to inductive logic programming(ILP), but the more statistical line of research was now outside the field of AI proper, in pattern recognition and information retrieval.[23]:\\u200a708–710,\\u200a755\\u200a Neural networks research had been abandoned by AI and computer science around the same time. This line, too, was continued outside the AI/CS field, as \"connectionism\", by researchers from other disciplines including John Hopfield, David Rumelhart, and Geoffrey Hinton. Their main success came in the mid-1980s with the reinvention of backpropagation.[23]:\\u200a25\\u200a\\n\\nMachine learning (ML), reorganized and recognized as its own field, started to flourish in the 1990s. The field changed its goal from achieving artificial intelligence to tackling solvable problems of a practical nature. It shifted focus away from the symbolic approaches it had inherited from AI, and toward methods and models borrowed from statistics, fuzzy logic, and probability theory.[24]',\n",
       " 'number': 3,\n",
       " 'topic': 'Artificial Intelligence',\n",
       " 'tone': 'simple',\n",
       " 'response_json': '{\"1\": {\"question_text\": \"What is the capital of France?\", \"options\": {\"1\": \"Paris\", \"2\": \"London\", \"3\": \"Berlin\", \"4\": \"Madrid\"}, \"correct_option\": \"Paris\"}, \"2\": {\"question_text\": \"Which planet is known as the Red Planet?\", \"options\": {\"1\": \"Earth\", \"2\": \"Mars\", \"3\": \"Venus\", \"4\": \"Jupiter\"}, \"correct_option\": \"Mars\"}, \"3\": {\"question_text\": \"Who wrote \\'Romeo and Juliet\\'?\", \"options\": {\"1\": \"William Shakespeare\", \"2\": \"Charles Dickens\", \"3\": \"Mark Twain\", \"4\": \"Ernest Hemingway\"}, \"correct_option\": \"William Shakespeare\"}}',\n",
       " 'quiz': 'Here are 3 multiple-choice questions based on the text:\\n\\n**Quiz: Artificial Intelligence**\\n\\n{\"1\": {\"question_text\": \"What was the primary goal of machine learning research in its early days?\", \"options\": {\"1\": \"Tackling practical problems\", \"2\": \"Achieving artificial intelligence\", \"3\": \"Improving pattern recognition\", \"4\": \"Enhancing data representation\"}, \"correct_option\": \"2\"}, \\n\"2\": {\"question_text\": \"What approach to AI led to a rift between machine learning and AI?\", \"options\": {\"1\": \"Symbolic/knowledge-based\", \"2\": \"Probabilistic systems\", \"3\": \"Fuzzy logic\", \"4\": \"Inductive logic programming\"}, \"correct_option\": \"1\"}, \\n\"3\": {\"question_text\": \"What was the result of a renewed focus on machine learning in the 1990s?\", \"options\": {\"1\": \"Abandonment of neural networks research\", \"2\": \"Continuation of expert systems development\", \"3\": \"Shifting from symbolic to statistical approaches\", \"4\": \"Discontinuation of machine learning as a field\"}, \"correct_option\": \"3\"}}',\n",
       " 'review': \"I'd be happy to help evaluate the complexity of the quiz and provide analysis of the questions.\\n\\n**Quiz Evaluation:**\\n\\nThe provided multiple-choice quiz has 5 questions, covering various aspects of Artificial Intelligence (AI). To assess its complexity, I'll analyze each question based on:\\n\\n1. **Cognitive Complexity**: How demanding is the question in terms of thinking, reasoning, and problem-solving?\\n2. **Analytical Ability**: Does the question require the application of AI concepts, theories, or techniques to solve a problem?\\n3. **Contextual Relevance**: Is the question relevant to the field of Artificial Intelligence?\\n\\n**Analysis of Questions:**\\n\\n1. **Question 1:** What is the primary goal of machine learning in AI applications?\\na) To improve processing speed\\nb) To increase storage capacity\\nc) To enable machines to learn from data\\nd) To enhance human-computer interaction\\n\\n**Complexity Level:** 2/5 (Moderate)\\n\\n* This question requires a basic understanding of machine learning and its role in AI. Students should be able to answer this with ease.\\n\\n2. **Question 2:** Which of the following is NOT a type of neural network?\\na) Feedforward\\nb) Recurrent\\nc) Convolutional\\nd) Hierarchical\\n\\n**Complexity Level:** 3/5 (Moderate-High)\\n\\n* This question demands some knowledge of neural networks and their types. Students need to apply their understanding of AI concepts to eliminate incorrect options.\\n\\n3. **Question 3:** What is the primary advantage of using natural language processing (NLP) in chatbots?\\na) Improved user experience\\nb) Enhanced security features\\nc) Increased processing speed\\nd) Better sentiment analysis\\n\\n**Complexity Level:** 2/5 (Moderate)\\n\\n* This question requires a basic understanding of NLP and its applications. Students should be able to answer this with some thought.\\n\\n4. **Question 4:** Which AI algorithm is best suited for solving complex optimization problems?\\na) Linear Regression\\nb) Decision Trees\\nc) Genetic Algorithm\\nd) Random Forest\\n\\n**Complexity Level:** 4/5 (High)\\n\\n* This question demands a deeper understanding of AI algorithms and their applications. Students need to apply their knowledge of optimization techniques to select the correct option.\\n\\n5. **Question 5:** How does deep learning differ from traditional machine learning?\\na) Deep learning uses more data\\nb) Deep learning uses fewer parameters\\nc) Deep learning uses hierarchical representations\\nd) Deep learning is only used for image recognition\\n\\n**Complexity Level:** 4/5 (High)\\n\\n* This question requires a strong understanding of the differences between deep learning and traditional machine learning. Students need to apply their knowledge of AI concepts to select the correct option.\\n\\n**Recommendations:**\\n\\nTo make the quiz more challenging and engaging, I recommend updating Questions 2, 4, and 5. These questions should be revised to:\\n\\n* Make them more cognitively demanding (Complexity Level: 4/5 or higher)\\n* Require students to apply AI concepts and techniques to solve problems\\n* Increase contextual relevance by making the questions more specific and scenario-based\\n\\nHere's an updated version of Question 4:\\n\\n**Question 4:** A self-driving car manufacturer wants to optimize its route planning algorithm. Which AI algorithm is best suited for solving this complex optimization problem?\\na) Linear Regression\\nb) Decision Trees\\nc) Genetic Algorithm\\nd) Ant Colony Optimization\\n\\nAnd here's an updated version of Question 5:\\n\\n**Question 5:** A researcher wants to classify breast cancer tumors using a deep learning approach. What are the primary advantages of using convolutional neural networks (CNNs) for this task?\\na) Improved accuracy with fewer parameters\\nb) Enhanced feature extraction capabilities\\nc) Increased robustness against overfitting\\nd) All of the above\\n\\nThese revised questions should provide a more challenging and engaging experience for Artificial Intelligence students.\"}"
      ]
     },
     "execution_count": 49,
     "metadata": {},
     "output_type": "execute_result"
    }
   ],
   "source": [
    "response"
   ]
  },
  {
   "cell_type": "code",
   "execution_count": 18,
   "metadata": {},
   "outputs": [
    {
     "name": "stdout",
     "output_type": "stream",
     "text": [
      "Here are 3 multiple-choice questions based on the text:\n",
      "\n",
      "**RESPONSE_JSON**\n",
      "{\n",
      "\"1\": {\n",
      "\"question_text\": \"What was the main goal of early machine learning research?\",\n",
      "\"options\": {\"1\": \"Achieving artificial intelligence\", \"2\": \"Tackling practical problems\", \"3\": \"Improving symbolic methods\", \"4\": \"Enhancing expert systems\"},\n",
      "\"correct_option\": \"1\"\n",
      "},\n",
      "\"2\": {\n",
      "\"question_text\": \"What was the result of an increasing emphasis on logical and knowledge-based approach in AI?\",\n",
      "\"options\": {\"1\": \"A merge between AI and machine learning\", \"2\": \"AI dominated machine learning\", \"3\": A rift between AI and machine learning\", \"4\": \"Expert systems flourished\"},\n",
      "\"correct_option\": \"3\"\n",
      "},\n",
      "\"3\": {\n",
      "\"question_text\": \"Where did researchers continue to work on neural networks research after it was abandoned by AI?\",\n",
      "\"options\": {\"1\": \"AI/CS field only\", \"2\": \"Statistics and information retrieval\", \"3\": \"Connectionism outside the AI/CS field\", \"4\": \"Pattern recognition alone\"},\n",
      "\"correct_option\": \"3\"\n",
      "}\n",
      "}\n"
     ]
    }
   ],
   "source": [
    "quiz1 = response.get(\"quiz\")\n",
    "print(quiz1)"
   ]
  },
  {
   "cell_type": "code",
   "execution_count": 1,
   "metadata": {},
   "outputs": [
    {
     "ename": "NameError",
     "evalue": "name 'json' is not defined",
     "output_type": "error",
     "traceback": [
      "\u001b[1;31m---------------------------------------------------------------------------\u001b[0m",
      "\u001b[1;31mNameError\u001b[0m                                 Traceback (most recent call last)",
      "Cell \u001b[1;32mIn[1], line 1\u001b[0m\n\u001b[1;32m----> 1\u001b[0m res\u001b[38;5;241m=\u001b[39m \u001b[43mjson\u001b[49m\u001b[38;5;241m.\u001b[39mdumps(RESPONSE_JSON)\n\u001b[0;32m      2\u001b[0m Number1 \u001b[38;5;241m=\u001b[39m \u001b[38;5;241m5\u001b[39m\n\u001b[0;32m      3\u001b[0m response2 \u001b[38;5;241m=\u001b[39m generate_evaluation_chain(\n\u001b[0;32m      4\u001b[0m     {\n\u001b[0;32m      5\u001b[0m \n\u001b[1;32m   (...)\u001b[0m\n\u001b[0;32m     12\u001b[0m     \n\u001b[0;32m     13\u001b[0m )\n",
      "\u001b[1;31mNameError\u001b[0m: name 'json' is not defined"
     ]
    }
   ],
   "source": [
    "res= json.dumps(RESPONSE_JSON)\n",
    "Number1 = 5\n",
    "response2 = generate_evaluation_chain(\n",
    "    {\n",
    "\n",
    "    \"text\":TEXT,\n",
    "    \"number\":Number1,\n",
    "    \"topic\":SUBJECT,\n",
    "    \"tone\":TONE,\n",
    "    \"response_json\": res\n",
    "    }\n",
    "    \n",
    ")\n"
   ]
  },
  {
   "cell_type": "code",
   "execution_count": 53,
   "metadata": {},
   "outputs": [
    {
     "data": {
      "text/plain": [
       "{'text': 'As a scientific endeavor, machine learning grew out of the quest for artificial intelligence (AI). In the early days of AI as an academic discipline, some researchers were interested in having machines learn from data. They attempted to approach the problem with various symbolic methods, as well as what were then termed \"neural networks\"; these were mostly perceptrons and other models that were later found to be reinventions of the generalized linear models of statistics.[22] Probabilistic reasoning was also employed, especially in automated medical diagnosis.[23]:\\u200a488\\u200a\\n\\nHowever, an increasing emphasis on the logical, knowledge-based approach caused a rift between AI and machine learning. Probabilistic systems were plagued by theoretical and practical problems of data acquisition and representation.[23]:\\u200a488\\u200a By 1980, expert systems had come to dominate AI, and statistics was out of favor.[24] Work on symbolic/knowledge-based learning did continue within AI, leading to inductive logic programming(ILP), but the more statistical line of research was now outside the field of AI proper, in pattern recognition and information retrieval.[23]:\\u200a708–710,\\u200a755\\u200a Neural networks research had been abandoned by AI and computer science around the same time. This line, too, was continued outside the AI/CS field, as \"connectionism\", by researchers from other disciplines including John Hopfield, David Rumelhart, and Geoffrey Hinton. Their main success came in the mid-1980s with the reinvention of backpropagation.[23]:\\u200a25\\u200a\\n\\nMachine learning (ML), reorganized and recognized as its own field, started to flourish in the 1990s. The field changed its goal from achieving artificial intelligence to tackling solvable problems of a practical nature. It shifted focus away from the symbolic approaches it had inherited from AI, and toward methods and models borrowed from statistics, fuzzy logic, and probability theory.[24]',\n",
       " 'number': 5,\n",
       " 'topic': 'Artificial Intelligence',\n",
       " 'tone': 'simple',\n",
       " 'response_json': '{\"1\": {\"question_text\": \"What is the capital of France?\", \"options\": {\"1\": \"Paris\", \"2\": \"London\", \"3\": \"Berlin\", \"4\": \"Madrid\"}, \"correct_option\": \"Paris\"}, \"2\": {\"question_text\": \"Which planet is known as the Red Planet?\", \"options\": {\"1\": \"Earth\", \"2\": \"Mars\", \"3\": \"Venus\", \"4\": \"Jupiter\"}, \"correct_option\": \"Mars\"}, \"3\": {\"question_text\": \"Who wrote \\'Romeo and Juliet\\'?\", \"options\": {\"1\": \"William Shakespeare\", \"2\": \"Charles Dickens\", \"3\": \"Mark Twain\", \"4\": \"Ernest Hemingway\"}, \"correct_option\": \"William Shakespeare\"}}',\n",
       " 'quiz': 'Here are 5 multiple-choice questions on Artificial Intelligence based on the text:\\n\\n**1. What was the primary goal of early researchers in Artificial Intelligence?**\\n\\nA) To create machines that could learn from data\\nB) To develop machines that could reason logically and make decisions\\nC) To build robots that could perform physical tasks\\nD) To improve computer graphics and animation\\n\\nCorrect answer: A) To create machines that could learn from data\\n\\n**2. What was the result of an increasing emphasis on logical, knowledge-based approaches in Artificial Intelligence?**\\n\\nA) A significant improvement in machine learning algorithms\\nB) A rift between AI and Machine Learning\\nC) The development of more sophisticated expert systems\\nD) The abandonment of neural networks research\\n\\nCorrect answer: B) A rift between AI and Machine Learning\\n\\n**3. What was the main success of connectionism researchers in the mid-1980s?**\\n\\nA) The invention of backpropagation\\nB) The development of a new type of machine learning algorithm\\nC) The creation of a more efficient neural network architecture\\nD) The improvement of computer vision capabilities\\n\\nCorrect answer: A) The invention of backpropagation\\n\\n**4. What field did Machine Learning (ML) reorganize and recognize as its own in the 1990s?**\\n\\nA) Computer Science\\nB) Statistics\\nC) Pattern Recognition\\nD) Information Retrieval\\n\\nCorrect answer: D) Information Retrieval\\n\\n**5. What was a key shift in focus for Machine Learning (ML) in the 1990s?**\\n\\nA) From symbolic approaches to logical reasoning\\nB) From statistical methods to fuzzy logic\\nC) From tackling solvable problems of a practical nature\\nD) From achieving artificial intelligence to solving abstract problems\\n\\nCorrect answer: C) From tackling solvable problems of a practical nature',\n",
       " 'review': 'I\\'d be happy to evaluate the complexity of the quiz and provide analysis of the questions.\\n\\n**Quiz Evaluation**\\n\\nThe provided multiple-choice quiz has 5 questions. After analyzing each question, I\\'ve identified the following strengths and weaknesses:\\n\\nStrengths:\\n\\n1. The topics covered are relevant to Artificial Intelligence (AI) students.\\n2. The language used is clear and concise.\\n3. Each question has a single correct answer option.\\n\\nWeaknesses:\\n\\n1. **Lack of cognitive complexity**: Most questions are straightforward and require only basic knowledge recall, without testing higher-order thinking skills like analysis, synthesis, or evaluation.\\n2. **No emphasis on critical thinking**: Questions 1-4 can be answered with a simple \"yes\" or \"no\" response, which doesn\\'t challenge students to think critically about the subject matter.\\n\\nBased on this analysis, I recommend updating some questions to better match the cognitive and analytical abilities of AI students.\\n\\n**Updated Quiz Recommendations**\\n\\nHere are my suggestions for updating specific questions:\\n\\n1. **Question 2**: Currently, it\\'s a simple \"True/False\" question. To increase complexity, consider rephrasing it as: \"Which of the following is an example of a Machine Learning (ML) algorithm? A) Decision Tree B) Random Forest C) K-Means D) Linear Regression.\" This would require students to demonstrate their understanding of ML concepts and apply them to a specific context.\\n2. **Question 4**: The question asks about a \"specific AI system\" but doesn\\'t provide any context or specification. Consider making it more challenging by adding details, such as: \"Which AI system is known for its ability to process natural language inputs? A) Siri B) Google Assistant C) IBM Watson D) AlphaGo.\" This would test students\\' knowledge of specific AI systems and their applications.\\n\\n**Tone Updates**\\n\\nTo make the quiz more engaging and challenging for AI students, I suggest:\\n\\n1. **More nuanced question phrasing**: Avoid using absolute terms like \"True/False\" or \"Always/Sometimes/Never.\" Instead, use phrases that encourage critical thinking and analysis.\\n2. **Emphasize context and application**: Questions should require students to apply their knowledge in a more practical way, such as solving a problem or making a prediction.\\n\\nHere\\'s the updated quiz with the recommended changes:\\n\\n**Updated Quizmcq: Artificial Intelligence**\\n\\nPlease review and provide feedback on these revised questions!\\n\\n1. Which of the following is an example of a Machine Learning (ML) algorithm?\\n   A) Decision Tree\\n   B) Random Forest\\n   C) K-Means\\n   D) Linear Regression\\n\\n2. Which AI system is known for its ability to process natural language inputs?\\n   A) Siri\\n   B) Google Assistant\\n   C) IBM Watson\\n   D) AlphaGo\\n\\n3. [No changes recommended; still a good question]\\n\\n4. Consider updating Question 4 as suggested above (see updated tone and emphasis on context and application).\\n\\n5. [No changes recommended; still a good question]'}"
      ]
     },
     "execution_count": 53,
     "metadata": {},
     "output_type": "execute_result"
    }
   ],
   "source": [
    "response2"
   ]
  },
  {
   "cell_type": "code",
   "execution_count": 55,
   "metadata": {},
   "outputs": [
    {
     "name": "stdout",
     "output_type": "stream",
     "text": [
      "Here are 5 multiple-choice questions on Artificial Intelligence based on the text:\n",
      "\n",
      "**1. What was the primary goal of early researchers in Artificial Intelligence?**\n",
      "\n",
      "A) To create machines that could learn from data\n",
      "B) To develop machines that could reason logically and make decisions\n",
      "C) To build robots that could perform physical tasks\n",
      "D) To improve computer graphics and animation\n",
      "\n",
      "Correct answer: A) To create machines that could learn from data\n",
      "\n",
      "**2. What was the result of an increasing emphasis on logical, knowledge-based approaches in Artificial Intelligence?**\n",
      "\n",
      "A) A significant improvement in machine learning algorithms\n",
      "B) A rift between AI and Machine Learning\n",
      "C) The development of more sophisticated expert systems\n",
      "D) The abandonment of neural networks research\n",
      "\n",
      "Correct answer: B) A rift between AI and Machine Learning\n",
      "\n",
      "**3. What was the main success of connectionism researchers in the mid-1980s?**\n",
      "\n",
      "A) The invention of backpropagation\n",
      "B) The development of a new type of machine learning algorithm\n",
      "C) The creation of a more efficient neural network architecture\n",
      "D) The improvement of computer vision capabilities\n",
      "\n",
      "Correct answer: A) The invention of backpropagation\n",
      "\n",
      "**4. What field did Machine Learning (ML) reorganize and recognize as its own in the 1990s?**\n",
      "\n",
      "A) Computer Science\n",
      "B) Statistics\n",
      "C) Pattern Recognition\n",
      "D) Information Retrieval\n",
      "\n",
      "Correct answer: D) Information Retrieval\n",
      "\n",
      "**5. What was a key shift in focus for Machine Learning (ML) in the 1990s?**\n",
      "\n",
      "A) From symbolic approaches to logical reasoning\n",
      "B) From statistical methods to fuzzy logic\n",
      "C) From tackling solvable problems of a practical nature\n",
      "D) From achieving artificial intelligence to solving abstract problems\n",
      "\n",
      "Correct answer: C) From tackling solvable problems of a practical nature\n"
     ]
    }
   ],
   "source": [
    "quiz2 = response2.get(\"quiz\")\n",
    "print(quiz2)"
   ]
  },
  {
   "cell_type": "code",
   "execution_count": 56,
   "metadata": {},
   "outputs": [
    {
     "name": "stdout",
     "output_type": "stream",
     "text": [
      "\n",
      "\n",
      "\u001b[1m> Entering new SequentialChain chain...\u001b[0m\n",
      "\n",
      "\n",
      "\u001b[1m> Entering new LLMChain chain...\u001b[0m\n",
      "Prompt after formatting:\n",
      "\u001b[32;1m\u001b[1;3m\n",
      "text:As a scientific endeavor, machine learning grew out of the quest for artificial intelligence (AI). In the early days of AI as an academic discipline, some researchers were interested in having machines learn from data. They attempted to approach the problem with various symbolic methods, as well as what were then termed \"neural networks\"; these were mostly perceptrons and other models that were later found to be reinventions of the generalized linear models of statistics.[22] Probabilistic reasoning was also employed, especially in automated medical diagnosis.[23]: 488 \n",
      "\n",
      "However, an increasing emphasis on the logical, knowledge-based approach caused a rift between AI and machine learning. Probabilistic systems were plagued by theoretical and practical problems of data acquisition and representation.[23]: 488  By 1980, expert systems had come to dominate AI, and statistics was out of favor.[24] Work on symbolic/knowledge-based learning did continue within AI, leading to inductive logic programming(ILP), but the more statistical line of research was now outside the field of AI proper, in pattern recognition and information retrieval.[23]: 708–710, 755  Neural networks research had been abandoned by AI and computer science around the same time. This line, too, was continued outside the AI/CS field, as \"connectionism\", by researchers from other disciplines including John Hopfield, David Rumelhart, and Geoffrey Hinton. Their main success came in the mid-1980s with the reinvention of backpropagation.[23]: 25 \n",
      "\n",
      "Machine learning (ML), reorganized and recognized as its own field, started to flourish in the 1990s. The field changed its goal from achieving artificial intelligence to tackling solvable problems of a practical nature. It shifted focus away from the symbolic approaches it had inherited from AI, and toward methods and models borrowed from statistics, fuzzy logic, and probability theory.[24]\n",
      " you are an expert mcq maker , Given the above text, it is your job to \n",
      " create a quiz of 10 of multiple choice question on Artificial Intelligence in simple tone\n",
      " make sure that no question is repeated and relevant to the Artificial Intelligence given \n",
      " you can use the respone like RESPONSE_JSON below to use it as a guide \n",
      " Ensure to make 10 of questions \n",
      " {\"1\": {\"question_text\": \"What is the capital of France?\", \"options\": {\"1\": \"Paris\", \"2\": \"London\", \"3\": \"Berlin\", \"4\": \"Madrid\"}, \"correct_option\": \"Paris\"}, \"2\": {\"question_text\": \"Which planet is known as the Red Planet?\", \"options\": {\"1\": \"Earth\", \"2\": \"Mars\", \"3\": \"Venus\", \"4\": \"Jupiter\"}, \"correct_option\": \"Mars\"}, \"3\": {\"question_text\": \"Who wrote 'Romeo and Juliet'?\", \"options\": {\"1\": \"William Shakespeare\", \"2\": \"Charles Dickens\", \"3\": \"Mark Twain\", \"4\": \"Ernest Hemingway\"}, \"correct_option\": \"William Shakespeare\"}}\n",
      "\u001b[0m\n",
      "\n",
      "\u001b[1m> Finished chain.\u001b[0m\n",
      "\n",
      "\n",
      "\u001b[1m> Entering new LLMChain chain...\u001b[0m\n",
      "Prompt after formatting:\n",
      "\u001b[32;1m\u001b[1;3m\n",
      "    you are an expert in english grammer and writer. Given a multiple choice quiz for Artificial Intelligence students.    you need to evaluate the complexity of the quiz and provide analysis of the questions.    if the questions are not as per the cognitive and analytical abilities of student , update the quiz question \n",
      "    that need to be changed and update the tone as needed \n",
      "    quizmcq:\n",
      "    Artificial Intelligence\n",
      "    check these  \n",
      "\u001b[0m\n",
      "\n",
      "\u001b[1m> Finished chain.\u001b[0m\n",
      "\n",
      "\u001b[1m> Finished chain.\u001b[0m\n"
     ]
    }
   ],
   "source": [
    "res= json.dumps(RESPONSE_JSON)\n",
    "Number2 = 10\n",
    "response2 = generate_evaluation_chain(\n",
    "    {\n",
    "\n",
    "    \"text\":TEXT,\n",
    "    \"number\":Number2,\n",
    "    \"topic\":SUBJECT,\n",
    "    \"tone\":TONE,\n",
    "    \"response_json\": res\n",
    "    }\n",
    "    \n",
    ")\n"
   ]
  },
  {
   "cell_type": "code",
   "execution_count": 58,
   "metadata": {},
   "outputs": [
    {
     "name": "stdout",
     "output_type": "stream",
     "text": [
      "Here are the 10 multiple-choice questions on Artificial Intelligence:\n",
      "\n",
      "**RESPONSE_JSON**\n",
      "```json\n",
      "{\n",
      "  \"1\": {\n",
      "    \"question_text\": \"What sparked the growth of machine learning as a scientific endeavor?\",\n",
      "    \"options\": {\n",
      "      \"1\": \"The rise of expert systems\",\n",
      "      \"2\": \"The development of neural networks\",\n",
      "      \"3\": \"The quest for artificial intelligence (AI)\",\n",
      "      \"4\": \"The advent of natural language processing\"\n",
      "    },\n",
      "    \"correct_option\": \"3\"\n",
      "  },\n",
      "  \"2\": {\n",
      "    \"question_text\": \"What was the main approach used by researchers in the early days of AI?\",\n",
      "    \"options\": {\n",
      "      \"1\": \"Symbolic methods and neural networks\",\n",
      "      \"2\": \"Probabilistic reasoning and automated medical diagnosis\",\n",
      "      \"3\": \"Inductive logic programming (ILP)\",\n",
      "      \"4\": \"Fuzzy logic and probability theory\"\n",
      "    },\n",
      "    \"correct_option\": \"1\"\n",
      "  },\n",
      "  \"3\": {\n",
      "    \"question_text\": \"What was the result of the increasing emphasis on logical, knowledge-based approach in AI?\",\n",
      "    \"options\": {\n",
      "      \"1\": \"A surge in neural network research\",\n",
      "      \"2\": \"A shift towards probabilistic systems\",\n",
      "      \"3\": \"A rift between AI and machine learning\",\n",
      "      \"4\": \"The dominance of expert systems\"\n",
      "    },\n",
      "    \"correct_option\": \"3\"\n",
      "  },\n",
      "  \"4\": {\n",
      "    \"question_text\": \"What was the main focus of machine learning (ML) in the 1990s?\",\n",
      "    \"options\": {\n",
      "      \"1\": \"Achieving artificial intelligence\",\n",
      "      \"2\": \"Tackling practical problems using statistical methods\",\n",
      "      \"3\": \"Developing expert systems\",\n",
      "      \"4\": \"Improving neural network research\"\n",
      "    },\n",
      "    \"correct_option\": \"2\"\n",
      "  },\n",
      "  \"5\": {\n",
      "    \"question_text\": \"What was the result of researchers from other disciplines, including John Hopfield and Geoffrey Hinton, re-examining neural networks?\",\n",
      "    \"options\": {\n",
      "      \"1\": \"A decline in interest in machine learning\",\n",
      "      \"2\": \"The development of connectionism\",\n",
      "      \"3\": \"An improvement in expert systems\",\n",
      "      \"4\": \"A shift towards probabilistic reasoning\"\n",
      "    },\n",
      "    \"correct_option\": \"2\"\n",
      "  },\n",
      "  \"6\": {\n",
      "    \"question_text\": \"What was the outcome of the backpropagation algorithm's reinvention in the mid-1980s?\",\n",
      "    \"options\": {\n",
      "      \"1\": \"A significant improvement in expert systems\",\n",
      "      \"2\": \"An increase in interest in neural network research\",\n",
      "      \"3\": \"The main success came from connectionism researchers\",\n",
      "      \"4\": \"It became a key component of machine learning\"\n",
      "    },\n",
      "    \"correct_option\": \"3\"\n",
      "  },\n",
      "  \"7\": {\n",
      "    \"question_text\": \"What was the primary goal of AI researchers in the early days?\",\n",
      "    \"options\": {\n",
      "      \"1\": \"To develop practical solutions to real-world problems\",\n",
      "      \"2\": \"To achieve artificial intelligence\",\n",
      "      \"3\": \"To improve neural network research\",\n",
      "      \"4\": \"To enhance expert system development\"\n",
      "    },\n",
      "    \"correct_option\": \"2\"\n",
      "  },\n",
      "  \"8\": {\n",
      "    \"question_text\": \"What was the result of the increasing emphasis on logical, knowledge-based approach causing a rift between AI and machine learning?\",\n",
      "    \"options\": {\n",
      "      \"1\": \"A decrease in interest in neural network research\",\n",
      "      \"2\": \"Machine learning started to flourish as its own field\",\n",
      "      \"3\": \"Expert systems became dominant in AI\",\n",
      "      \"4\": \"Probabilistic reasoning was abandoned\"\n",
      "    },\n",
      "    \"correct_option\": \"2\"\n",
      "  },\n",
      "  \"9\": {\n",
      "    \"question_text\": \"What was the outcome of researchers shifting focus away from symbolic approaches inherited from AI?\",\n",
      "    \"options\": {\n",
      "      \"1\": \"A decline in interest in machine learning\",\n",
      "      \"2\": \"An improvement in expert system development\",\n",
      "      \"3\": \"Machine learning shifted its focus towards practical problems\",\n",
      "      \"4\": \"Neural network research was abandoned\"\n",
      "    },\n",
      "    \"correct_option\": \"3\"\n",
      "  },\n",
      "  \"10\": {\n",
      "    \"question_text\": \"When did machine learning (ML) start to flourish as its own field?\",\n",
      "    \"options\": {\n",
      "      \"1\": \"1980s\",\n",
      "      \"2\": \"1990s\",\n",
      "      \"3\": \"2000s\",\n",
      "      \"4\": \"2010s\"\n",
      "    },\n",
      "    \"correct_option\": \"2\"\n",
      "  }\n",
      "}\n",
      "```\n"
     ]
    }
   ],
   "source": [
    "quiz3 = response2.get(\"quiz\")\n",
    "print(quiz3)"
   ]
  },
  {
   "cell_type": "code",
   "execution_count": 21,
   "metadata": {},
   "outputs": [
    {
     "data": {
      "text/plain": [
       "'10_14_2024_21_50_54'"
      ]
     },
     "execution_count": 21,
     "metadata": {},
     "output_type": "execute_result"
    }
   ],
   "source": [
    "from datetime import datetime \n",
    "datetime.now().strftime('%m_%d_%Y_%H_%M_%S')"
   ]
  },
  {
   "cell_type": "code",
   "execution_count": null,
   "metadata": {},
   "outputs": [],
   "source": []
  }
 ],
 "metadata": {
  "kernelspec": {
   "display_name": "Python 3",
   "language": "python",
   "name": "python3"
  },
  "language_info": {
   "codemirror_mode": {
    "name": "ipython",
    "version": 3
   },
   "file_extension": ".py",
   "mimetype": "text/x-python",
   "name": "python",
   "nbconvert_exporter": "python",
   "pygments_lexer": "ipython3",
   "version": "3.8.20"
  }
 },
 "nbformat": 4,
 "nbformat_minor": 2
}
